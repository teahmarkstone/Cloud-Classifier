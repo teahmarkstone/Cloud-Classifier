{
  "nbformat": 4,
  "nbformat_minor": 0,
  "metadata": {
    "colab": {
      "name": "DL_Project.ipynb",
      "provenance": [],
      "authorship_tag": "ABX9TyNDQqasYOzFAve503jbSVL+",
      "include_colab_link": true
    },
    "kernelspec": {
      "name": "python3",
      "display_name": "Python 3"
    },
    "language_info": {
      "name": "python"
    }
  },
  "cells": [
    {
      "cell_type": "markdown",
      "metadata": {
        "id": "view-in-github",
        "colab_type": "text"
      },
      "source": [
        "<a href=\"https://colab.research.google.com/github/teahmarkstone/Mushroom-Classifier/blob/main/DL_Project.ipynb\" target=\"_parent\"><img src=\"https://colab.research.google.com/assets/colab-badge.svg\" alt=\"Open In Colab\"/></a>"
      ]
    },
    {
      "cell_type": "markdown",
      "source": [
        "# Mushroom Classifer\n",
        "By Madeline Grace McLaughlin and Teah Markstone"
      ],
      "metadata": {
        "id": "G4Mgp7glyjfo"
      }
    },
    {
      "cell_type": "code",
      "execution_count": 1,
      "metadata": {
        "id": "mcBnoAk9xpWV"
      },
      "outputs": [],
      "source": [
        "import numpy as np"
      ]
    }
  ]
}