{
  "nbformat": 4,
  "nbformat_minor": 0,
  "metadata": {
    "colab": {
      "name": "DL_Project.ipynb",
      "provenance": [],
      "authorship_tag": "ABX9TyMbKF2elP/dAB4p1PfPheDA",
      "include_colab_link": true
    },
    "kernelspec": {
      "name": "python3",
      "display_name": "Python 3"
    },
    "language_info": {
      "name": "python"
    }
  },
  "cells": [
    {
      "cell_type": "markdown",
      "metadata": {
        "id": "view-in-github",
        "colab_type": "text"
      },
      "source": [
        "<a href=\"https://colab.research.google.com/github/teahmarkstone/Mushroom-Classifier/blob/main/DL_Project.ipynb\" target=\"_parent\"><img src=\"https://colab.research.google.com/assets/colab-badge.svg\" alt=\"Open In Colab\"/></a>"
      ]
    },
    {
      "cell_type": "markdown",
      "source": [
        "# Mushroom Classifer\n",
        "By Madeline Grace McLaughlin and Teah Markstone\n",
        "\n",
        "test"
      ],
      "metadata": {
        "id": "G4Mgp7glyjfo"
      }
    },
    {
      "cell_type": "code",
      "execution_count": null,
      "metadata": {
        "id": "mcBnoAk9xpWV"
      },
      "outputs": [],
      "source": [
        "import numpy as np"
      ]
    }
  ]
}